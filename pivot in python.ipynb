{
 "cells": [
  {
   "cell_type": "code",
   "execution_count": 1,
   "id": "06e067ce",
   "metadata": {},
   "outputs": [
    {
     "name": "stdout",
     "output_type": "stream",
     "text": [
      "      Name  Age     Sex\n",
      "0     Alek   20    Male\n",
      "1     Akim   30    Male\n",
      "2  Cynthia   50  Female\n",
      "\n",
      "\n",
      "Age        20    30      50\n",
      "Name                       \n",
      "Akim      NaN  Male     NaN\n",
      "Alek     Male   NaN     NaN\n",
      "Cynthia   NaN   NaN  Female\n"
     ]
    }
   ],
   "source": [
    "import pandas as pd\n",
    "\n",
    "                                                         # creating a dataframe\n",
    "df = pd.DataFrame({'Name': {0: 'Alek', 1: 'Akim', 2: 'Cynthia'},\n",
    "                   'Age': {0: 20, 1: 30, 2: 50},\n",
    "                   'Sex': {0: \"Male\", 1: \"Male\", 2: \"Female\"}})\n",
    "\n",
    "# printing the dataframe\n",
    "print(df)\n",
    "\n",
    "# reshaping the dataframe\n",
    "a = pd.pivot(df, index = \"Name\", columns=\"Age\", values=\"Sex\")\n",
    "print(\"\\n\")\n",
    "                               # printing the newly reshaped dataframe\n",
    "print(a)"
   ]
  },
  {
   "cell_type": "code",
   "execution_count": null,
   "id": "958917dc",
   "metadata": {},
   "outputs": [],
   "source": []
  }
 ],
 "metadata": {
  "kernelspec": {
   "display_name": "Python 3 (ipykernel)",
   "language": "python",
   "name": "python3"
  },
  "language_info": {
   "codemirror_mode": {
    "name": "ipython",
    "version": 3
   },
   "file_extension": ".py",
   "mimetype": "text/x-python",
   "name": "python",
   "nbconvert_exporter": "python",
   "pygments_lexer": "ipython3",
   "version": "3.10.9"
  }
 },
 "nbformat": 4,
 "nbformat_minor": 5
}
