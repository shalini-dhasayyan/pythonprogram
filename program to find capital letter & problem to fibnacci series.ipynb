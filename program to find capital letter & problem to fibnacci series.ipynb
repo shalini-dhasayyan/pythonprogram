{
 "cells": [
  {
   "cell_type": "code",
   "execution_count": 6,
   "id": "f06df98c",
   "metadata": {},
   "outputs": [
    {
     "name": "stdout",
     "output_type": "stream",
     "text": [
      "enter the locationMechanicsville\n",
      "The number of capital letters found in the string is:- 1\n"
     ]
    }
   ],
   "source": [
    "location=str(input(\"enter the location\"))\n",
    "count=0\n",
    "for i in location:\n",
    "    if i.isupper():\n",
    "        count=count+1\n",
    "print(\"The number of capital letters found in the string is:-\",count)"
   ]
  },
  {
   "cell_type": "code",
   "execution_count": 7,
   "id": "1bffab0c",
   "metadata": {},
   "outputs": [
    {
     "name": "stdout",
     "output_type": "stream",
     "text": [
      "How many terms? 12\n",
      "Fibonacci sequence:\n",
      "0\n",
      "1\n",
      "1\n",
      "2\n",
      "3\n",
      "5\n",
      "8\n",
      "13\n",
      "21\n",
      "34\n",
      "55\n",
      "89\n"
     ]
    }
   ],
   "source": [
    "# Program to display the Fibonacci sequence up to n-th term\n",
    "\n",
    "nterms = int(input(\"How many terms? \"))\n",
    "\n",
    "# first two terms\n",
    "n1, n2 = 0, 1\n",
    "count = 0\n",
    "\n",
    "# check if the number of terms is valid\n",
    "if nterms <= 0:\n",
    "   print(\"Please enter a positive integer\")\n",
    "# if there is only one term, return n1\n",
    "elif nterms == 1:\n",
    "   print(\"Fibonacci sequence upto\",nterms,\":\")\n",
    "   print(n1)\n",
    "# generate fibonacci sequence\n",
    "else:\n",
    "   print(\"Fibonacci sequence:\")\n",
    "   while count < nterms:\n",
    "       print(n1)\n",
    "       nth = n1 + n2\n",
    "       # update values\n",
    "       n1 = n2\n",
    "       n2 = nth\n",
    "       count += 1\n",
    "\n"
   ]
  },
  {
   "cell_type": "code",
   "execution_count": 9,
   "id": "8e1dc315",
   "metadata": {},
   "outputs": [
    {
     "name": "stdout",
     "output_type": "stream",
     "text": [
      "Fibonacci Series - \n",
      "0 1 1 2 3 5 8 "
     ]
    }
   ],
   "source": [
    "def Fibonacci(length):\n",
    "    #Initial variable for the base case. \n",
    "    first = 0\n",
    "    second = 1\n",
    "\n",
    "    #Printing the initial Fibonacci number.\n",
    "    print(first, second, end=\" \")\n",
    "\n",
    "    #decreasing the length by two because the first 2 Fibonacci numbers \n",
    "    #already printed.\n",
    "    length -= 2\n",
    "    \n",
    "    #Loop until the length becomes 0.\n",
    "    while length > 0:\n",
    "\n",
    "        #Printing the next Fibonacci number.\n",
    "        print(first + second, end=\" \")\n",
    "\n",
    "        #Updating the first and second variables for finding the next number. \n",
    "        temp = second\n",
    "        second = first + second\n",
    "        first = temp\n",
    "\n",
    "        #Decreasing the length that states the Fibonacci numbers to be \n",
    "        #printed more.\n",
    "        length -= 1\n",
    "\n",
    "if __name__ == \"__main__\":\n",
    "    print(\"Fibonacci Series - \")\n",
    "    PrintFibonacci(7)\n",
    "    pass"
   ]
  },
  {
   "cell_type": "code",
   "execution_count": 16,
   "id": "f783049d",
   "metadata": {},
   "outputs": [
    {
     "name": "stdout",
     "output_type": "stream",
     "text": [
      "Enter the value of 'n': 7\n",
      "Fibonacci Series:  0 1 1 2 3 5 8 "
     ]
    }
   ],
   "source": [
    "#Python program to generate Fibonacci series until 'n' value\n",
    "n = int(input(\"Enter the value of 'n': \"))\n",
    "a = 0\n",
    "b = 1\n",
    "sum = 0\n",
    "count = 1\n",
    "print(\"Fibonacci Series: \", end = \" \")\n",
    "while(count <= n):\n",
    "  print(sum, end = \" \")\n",
    "  count += 1\n",
    "  a = b\n",
    "  b = sum\n",
    "  sum = a + b"
   ]
  },
  {
   "cell_type": "code",
   "execution_count": null,
   "id": "a2ee60b9",
   "metadata": {},
   "outputs": [],
   "source": []
  },
  {
   "cell_type": "code",
   "execution_count": null,
   "id": "fcbff4fc",
   "metadata": {},
   "outputs": [],
   "source": []
  }
 ],
 "metadata": {
  "kernelspec": {
   "display_name": "Python 3 (ipykernel)",
   "language": "python",
   "name": "python3"
  },
  "language_info": {
   "codemirror_mode": {
    "name": "ipython",
    "version": 3
   },
   "file_extension": ".py",
   "mimetype": "text/x-python",
   "name": "python",
   "nbconvert_exporter": "python",
   "pygments_lexer": "ipython3",
   "version": "3.10.9"
  }
 },
 "nbformat": 4,
 "nbformat_minor": 5
}
