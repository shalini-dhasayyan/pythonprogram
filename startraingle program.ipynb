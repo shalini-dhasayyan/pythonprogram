{
 "cells": [
  {
   "cell_type": "code",
   "execution_count": 2,
   "id": "fbd1f790",
   "metadata": {},
   "outputs": [
    {
     "name": "stdout",
     "output_type": "stream",
     "text": [
      "Enter the number of rows8\n",
      "       * \n",
      "      * * \n",
      "     * * * \n",
      "    * * * * \n",
      "   * * * * * \n",
      "  * * * * * * \n",
      " * * * * * * * \n",
      "* * * * * * * * \n"
     ]
    }
   ],
   "source": [
    "                                                      # Program to print full pyramid \n",
    "rows = int(input(\"Enter the number of rows\"));\n",
    "for i in range(0, rows):\n",
    "\tfor j in range(0, rows-i-1):\n",
    "\t\tprint(end=\" \")\n",
    "\tfor j in range(0, i+1):\n",
    "\t\tprint(\"*\", end=\" \")\n",
    "\tprint()"
   ]
  },
  {
   "cell_type": "code",
   "execution_count": null,
   "id": "b7114ac1",
   "metadata": {},
   "outputs": [],
   "source": []
  }
 ],
 "metadata": {
  "kernelspec": {
   "display_name": "Python 3 (ipykernel)",
   "language": "python",
   "name": "python3"
  },
  "language_info": {
   "codemirror_mode": {
    "name": "ipython",
    "version": 3
   },
   "file_extension": ".py",
   "mimetype": "text/x-python",
   "name": "python",
   "nbconvert_exporter": "python",
   "pygments_lexer": "ipython3",
   "version": "3.10.9"
  }
 },
 "nbformat": 4,
 "nbformat_minor": 5
}
